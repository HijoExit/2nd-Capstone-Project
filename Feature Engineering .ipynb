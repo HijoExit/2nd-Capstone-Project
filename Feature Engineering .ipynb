{
 "cells": [
  {
   "cell_type": "code",
   "execution_count": 1,
   "id": "34bf773e",
   "metadata": {},
   "outputs": [],
   "source": [
    "import pandas as pd\n",
    "import requests\n",
    "import numpy as np\n",
    "from sklearn.model_selection import train_test_split\n",
    "from sklearn.preprocessing import StandardScaler\n",
    "import seaborn as sns\n",
    "import matplotlib.pyplot as plt \n",
    "from sklearn.linear_model import LinearRegression\n",
    "from sklearn.pipeline import Pipeline"
   ]
  },
  {
   "cell_type": "code",
   "execution_count": 2,
   "id": "5c7cc843",
   "metadata": {},
   "outputs": [],
   "source": [
    "Japan = pd.read_csv('Cleaned Data/Japan.csv')\n",
    "China = pd.read_csv('Cleaned Data/China.csv')\n",
    "Korea = pd.read_csv('Cleaned Data/Korea.csv')\n",
    "Singapore = pd.read_csv('Cleaned Data/Singapore.CSV')\n",
    "Malaysia = pd.read_csv('Cleaned Data/Malaysia.CSV')\n",
    "Japan.set_index(['Year'], inplace = True) \n",
    "China.set_index('Year', inplace = True) \n",
    "Korea.set_index('Year', inplace = True)\n",
    "Singapore.set_index('Year', inplace = True)\n",
    "Malaysia.set_index('Year', inplace = True) "
   ]
  },
  {
   "cell_type": "code",
   "execution_count": 3,
   "id": "66abfc3c",
   "metadata": {},
   "outputs": [
    {
     "name": "stdout",
     "output_type": "stream",
     "text": [
      "Japan: GDP    Fertility rate, total (births per woman)  GDP Growth  GDP Per Capita  GDP Per Capita Growth  14 Under  15 to 64  64 above  Work Population(%)\n",
      "False  False                                     False       False           False                  False     False     False     False                 60\n",
      "                                                 True        False           True                   False     False     False     False                  1\n",
      "dtype: int64\n",
      "China: GDP    Fertility rate, total (births per woman)  GDP Growth  GDP Per Capita  GDP Per Capita Growth  14 Under  15 to 64  64 above  Work Population(%)\n",
      "False  False                                     False       False           False                  False     False     False     False                 60\n",
      "                                                 True        False           True                   False     False     False     False                  1\n",
      "dtype: int64\n",
      "Korea: GDP    Fertility rate, total (births per woman)  GDP Growth  GDP Per Capita  GDP Per Capita Growth  14 Under  15 to 64  64 above  Work Population(%)\n",
      "False  False                                     False       False           False                  False     False     False     False                 60\n",
      "                                                 True        False           True                   False     False     False     False                  1\n",
      "dtype: int64\n",
      "Singapore: GDP    Fertility rate, total (births per woman)  GDP Growth  GDP Per Capita  GDP Per Capita Growth  14 Under  15 to 64  64 above  Work Population(%)\n",
      "False  False                                     False       False           False                  False     False     False     False                 60\n",
      "                                                 True        False           True                   False     False     False     False                  1\n",
      "dtype: int64\n",
      "Malaysia: GDP    Fertility rate, total (births per woman)  GDP Growth  GDP Per Capita  GDP Per Capita Growth  14 Under  15 to 64  64 above  Work Population(%)\n",
      "False  False                                     False       False           False                  False     False     False     False                 60\n",
      "                                                 True        False           True                   False     False     False     False                  1\n",
      "dtype: int64\n"
     ]
    }
   ],
   "source": [
    "print('Japan:', Japan.isna().value_counts())\n",
    "print('China:', China.isna().value_counts())\n",
    "print('Korea:', Korea.isna().value_counts())\n",
    "print('Singapore:', Singapore.isna().value_counts())\n",
    "print('Malaysia:', Malaysia.isna().value_counts())"
   ]
  },
  {
   "cell_type": "code",
   "execution_count": 4,
   "id": "43ef01f5",
   "metadata": {},
   "outputs": [],
   "source": [
    "Japan.dropna(inplace = True)\n",
    "China.dropna(inplace = True)\n",
    "Korea.dropna(inplace = True)\n",
    "Singapore.dropna(inplace = True)\n",
    "Singapore.dropna(inplace = True)\n",
    "Malaysia.dropna(inplace = True)"
   ]
  },
  {
   "cell_type": "code",
   "execution_count": 36,
   "id": "05b42f99",
   "metadata": {},
   "outputs": [
    {
     "name": "stderr",
     "output_type": "stream",
     "text": [
      "C:\\Users\\sangr\\anaconda3\\lib\\site-packages\\pandas\\core\\frame.py:3678: SettingWithCopyWarning: \n",
      "A value is trying to be set on a copy of a slice from a DataFrame.\n",
      "Try using .loc[row_indexer,col_indexer] = value instead\n",
      "\n",
      "See the caveats in the documentation: https://pandas.pydata.org/pandas-docs/stable/user_guide/indexing.html#returning-a-view-versus-a-copy\n",
      "  self[col] = igetitem(value, i)\n"
     ]
    },
    {
     "data": {
      "text/plain": [
       "[<matplotlib.lines.Line2D at 0x22948ed8eb0>]"
      ]
     },
     "execution_count": 36,
     "metadata": {},
     "output_type": "execute_result"
    },
    {
     "data": {
      "image/png": "[encoded data removed]",
      "text/plain": [
       "<Figure size 432x288 with 1 Axes>"
      ]
     },
     "metadata": {
      "needs_background": "light"
     },
     "output_type": "display_data"
    }
   ],
   "source": [
    "#Trimmed any gdp growth outlierss\n",
    "quantile = Japan['GDP Growth'].quantile(.95)\n",
    "trimmedDF = Japan[Japan['GDP Growth'] < quantile]\n",
    "LR = LinearRegression()\n",
    "scale = StandardScaler()\n",
    "scaled_data = scale.fit(trimmedDF[['Fertility rate, total (births per woman)', '14 Under', '15 to 64','64 above', 'Work Population(%)']])\n",
    "trimmedDF[['Fertility rate, total (births per woman)', '14 Under', '15 to 64','64 above', 'Work Population(%)']] = scale.transform(trimmedDF[['Fertility rate, total (births per woman)', '14 Under', '15 to 64','64 above', 'Work Population(%)']])\n",
    "y_train =  trimmedDF['GDP Growth'][:50]\n",
    "y_test = trimmedDF['GDP Growth'][50:]\n",
    "X_train =  trimmedDF.drop(columns = ['GDP Growth', 'GDP', 'GDP Per Capita'])[:50]\n",
    "X_test =  trimmedDF.drop(columns = ['GDP Growth', 'GDP', 'GDP Per Capita'])[50:]\n",
    "LR.fit(X_train, y_train)\n",
    "prediction = LR.predict(X_test)\n",
    "plt.plot(prediction)"
   ]
  },
  {
   "cell_type": "code",
   "execution_count": 37,
   "id": "fa7d1b4b",
   "metadata": {},
   "outputs": [
    {
     "data": {
      "text/plain": [
       "[<matplotlib.lines.Line2D at 0x229489ede50>]"
      ]
     },
     "execution_count": 37,
     "metadata": {},
     "output_type": "execute_result"
    },
    {
     "data": {
      "image/png": "[encoded data removed]",
      "text/plain": [
       "<Figure size 432x288 with 1 Axes>"
      ]
     },
     "metadata": {
      "needs_background": "light"
     },
     "output_type": "display_data"
    }
   ],
   "source": [
    "#Without any trimmed any gdp growth outliers\n",
    "LR = LinearRegression()\n",
    "scale = StandardScaler()\n",
    "scaled_data = scale.fit(Japan[['Fertility rate, total (births per woman)', '14 Under', '15 to 64','64 above', 'Work Population(%)']])\n",
    "Japan[['Fertility rate, total (births per woman)', '14 Under', '15 to 64','64 above', 'Work Population(%)']] = scale.transform(Japan[['Fertility rate, total (births per woman)', '14 Under', '15 to 64','64 above', 'Work Population(%)']])\n",
    "y_train =  Japan['GDP Growth'][:50]\n",
    "y_test = Japan['GDP Growth'][50:]\n",
    "X_train =  Japan.drop(columns = ['GDP Growth', 'GDP', 'GDP Per Capita'])[:50]\n",
    "X_test =  Japan.drop(columns = ['GDP Growth', 'GDP', 'GDP Per Capita'])[50:]\n",
    "LR.fit(X_train, y_train)\n",
    "prediction = LR.predict(X_test)\n",
    "plt.plot(prediction)"
   ]
  },
  {
   "cell_type": "code",
   "execution_count": 38,
   "id": "f019b29e",
   "metadata": {},
   "outputs": [
    {
     "name": "stderr",
     "output_type": "stream",
     "text": [
      "C:\\Users\\sangr\\anaconda3\\lib\\site-packages\\pandas\\core\\frame.py:3678: SettingWithCopyWarning: \n",
      "A value is trying to be set on a copy of a slice from a DataFrame.\n",
      "Try using .loc[row_indexer,col_indexer] = value instead\n",
      "\n",
      "See the caveats in the documentation: https://pandas.pydata.org/pandas-docs/stable/user_guide/indexing.html#returning-a-view-versus-a-copy\n",
      "  self[col] = igetitem(value, i)\n"
     ]
    },
    {
     "data": {
      "text/plain": [
       "[<matplotlib.lines.Line2D at 0x229489bca60>]"
      ]
     },
     "execution_count": 38,
     "metadata": {},
     "output_type": "execute_result"
    },
    {
     "data": {
      "image/png": "[encoded data removed]",
      "text/plain": [
       "<Figure size 432x288 with 1 Axes>"
      ]
     },
     "metadata": {
      "needs_background": "light"
     },
     "output_type": "display_data"
    }
   ],
   "source": [
    "#Trimmed any gdp growth outliers\n",
    "quantile = China['GDP Growth'].quantile(.95)\n",
    "trimmedDF = China[China['GDP Growth'] < quantile]\n",
    "LR = LinearRegression()\n",
    "scale = StandardScaler()\n",
    "scaled_data = scale.fit(trimmedDF[['Fertility rate, total (births per woman)', '14 Under', '15 to 64','64 above', 'Work Population(%)']])\n",
    "trimmedDF[['Fertility rate, total (births per woman)', '14 Under', '15 to 64','64 above', 'Work Population(%)']] = scale.transform(trimmedDF[['Fertility rate, total (births per woman)', '14 Under', '15 to 64','64 above', 'Work Population(%)']])\n",
    "y_train =  trimmedDF['GDP Growth'][:50]\n",
    "y_test = trimmedDF['GDP Growth'][50:]\n",
    "X_train =  trimmedDF.drop(columns = ['GDP Growth', 'GDP', 'GDP Per Capita'])[:50]\n",
    "X_test =  trimmedDF.drop(columns = ['GDP Growth', 'GDP', 'GDP Per Capita'])[50:]\n",
    "LR.fit(X_train, y_train)\n",
    "prediction = LR.predict(X_test)\n",
    "plt.plot(prediction)"
   ]
  },
  {
   "cell_type": "code",
   "execution_count": 39,
   "id": "cb110fe2",
   "metadata": {},
   "outputs": [
    {
     "data": {
      "text/plain": [
       "[<matplotlib.lines.Line2D at 0x22946b754f0>]"
      ]
     },
     "execution_count": 39,
     "metadata": {},
     "output_type": "execute_result"
    },
    {
     "data": {
      "image/png": "[encoded data removed]",
      "text/plain": [
       "<Figure size 432x288 with 1 Axes>"
      ]
     },
     "metadata": {
      "needs_background": "light"
     },
     "output_type": "display_data"
    }
   ],
   "source": [
    "#Without any trimmed any gdp growth outliers\n",
    "LR = LinearRegression()\n",
    "scale = StandardScaler()\n",
    "scaled_data = scale.fit(China[['Fertility rate, total (births per woman)', '14 Under', '15 to 64','64 above', 'Work Population(%)']])\n",
    "China[['Fertility rate, total (births per woman)', '14 Under', '15 to 64','64 above', 'Work Population(%)']] = scale.transform(China[['Fertility rate, total (births per woman)', '14 Under', '15 to 64','64 above', 'Work Population(%)']])\n",
    "y_train =  China['GDP Growth'][:50]\n",
    "y_test = China['GDP Growth'][50:]\n",
    "X_train =  China.drop(columns = ['GDP Growth', 'GDP', 'GDP Per Capita'])[:50]\n",
    "X_test =  China.drop(columns = ['GDP Growth', 'GDP', 'GDP Per Capita'])[50:]\n",
    "LR.fit(X_train, y_train)\n",
    "prediction = LR.predict(X_test)\n",
    "plt.plot(prediction)"
   ]
  },
  {
   "cell_type": "code",
   "execution_count": null,
   "id": "567a5cee",
   "metadata": {},
   "outputs": [],
   "source": []
  }
 ],
 "metadata": {
  "kernelspec": {
   "display_name": "Python 3 (ipykernel)",
   "language": "python",
   "name": "python3"
  },
  "language_info": {
   "codemirror_mode": {
    "name": "ipython",
    "version": 3
   },
   "file_extension": ".py",
   "mimetype": "text/x-python",
   "name": "python",
   "nbconvert_exporter": "python",
   "pygments_lexer": "ipython3",
   "version": "3.9.7"
  }
 },
 "nbformat": 4,
 "nbformat_minor": 5
}
