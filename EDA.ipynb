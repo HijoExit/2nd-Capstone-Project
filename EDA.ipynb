{
 "cells": [
  {
   "cell_type": "code",
   "execution_count": 1,
   "id": "c7096856",
   "metadata": {},
   "outputs": [],
   "source": [
    "import pandas as pd\n",
    "import requests\n",
    "import matplotlib.pyplot as plt \n",
    "import seaborn as sns"
   ]
  },
  {
   "cell_type": "code",
   "execution_count": 2,
   "id": "59912e8e",
   "metadata": {},
   "outputs": [],
   "source": [
    "Fertility_rate = pd.read_csv('Cleaned Data/Fertility rate CN and JP.CSV')\n",
    "age_dependency = pd.read_csv('Cleaned Data/age_dependency.csv')\n",
    "Chinese_gdp_data = pd.read_csv('Cleaned Data/CN_GDP_Overall_data.csv')\n",
    "Japanese_gdp_data = pd.read_csv('Cleaned Data/JP_GDP_Overall_data.csv')\n",
    "JP_demo = pd.read_csv('Cleaned Data/JP_demo.csv')\n",
    "CN_demo = pd.read_csv('Cleaned Data/CN_demo.csv')\n",
    "Age_14under = pd.read_csv('Cleaned Data/Age_14under.csv') "
   ]
  },
  {
   "cell_type": "code",
   "execution_count": 3,
   "id": "419702b1",
   "metadata": {},
   "outputs": [
    {
     "data": {
      "text/html": [
       "<div>\n",
       "<style scoped>\n",
       "    .dataframe tbody tr th:only-of-type {\n",
       "        vertical-align: middle;\n",
       "    }\n",
       "\n",
       "    .dataframe tbody tr th {\n",
       "        vertical-align: top;\n",
       "    }\n",
       "\n",
       "    .dataframe thead th {\n",
       "        text-align: right;\n",
       "    }\n",
       "</style>\n",
       "<table border=\"1\" class=\"dataframe\">\n",
       "  <thead>\n",
       "    <tr style=\"text-align: right;\">\n",
       "      <th></th>\n",
       "      <th>Year</th>\n",
       "      <th>China Fertility rate, total (births per woman)</th>\n",
       "      <th>Japan Fertility rate, total (births per woman)</th>\n",
       "      <th>Fertility Rate</th>\n",
       "    </tr>\n",
       "  </thead>\n",
       "  <tbody>\n",
       "    <tr>\n",
       "      <th>0</th>\n",
       "      <td>1960</td>\n",
       "      <td>5.756</td>\n",
       "      <td>2.001</td>\n",
       "      <td>5.505751</td>\n",
       "    </tr>\n",
       "    <tr>\n",
       "      <th>1</th>\n",
       "      <td>1961</td>\n",
       "      <td>5.905</td>\n",
       "      <td>2.050</td>\n",
       "      <td>5.489795</td>\n",
       "    </tr>\n",
       "    <tr>\n",
       "      <th>2</th>\n",
       "      <td>1962</td>\n",
       "      <td>6.062</td>\n",
       "      <td>2.010</td>\n",
       "      <td>5.490831</td>\n",
       "    </tr>\n",
       "    <tr>\n",
       "      <th>3</th>\n",
       "      <td>1963</td>\n",
       "      <td>6.206</td>\n",
       "      <td>2.020</td>\n",
       "      <td>5.489791</td>\n",
       "    </tr>\n",
       "    <tr>\n",
       "      <th>4</th>\n",
       "      <td>1964</td>\n",
       "      <td>6.320</td>\n",
       "      <td>2.050</td>\n",
       "      <td>5.452046</td>\n",
       "    </tr>\n",
       "    <tr>\n",
       "      <th>...</th>\n",
       "      <td>...</td>\n",
       "      <td>...</td>\n",
       "      <td>...</td>\n",
       "      <td>...</td>\n",
       "    </tr>\n",
       "    <tr>\n",
       "      <th>56</th>\n",
       "      <td>2016</td>\n",
       "      <td>1.675</td>\n",
       "      <td>1.440</td>\n",
       "      <td>2.747591</td>\n",
       "    </tr>\n",
       "    <tr>\n",
       "      <th>57</th>\n",
       "      <td>2017</td>\n",
       "      <td>1.683</td>\n",
       "      <td>1.430</td>\n",
       "      <td>2.707341</td>\n",
       "    </tr>\n",
       "    <tr>\n",
       "      <th>58</th>\n",
       "      <td>2018</td>\n",
       "      <td>1.690</td>\n",
       "      <td>1.420</td>\n",
       "      <td>2.676643</td>\n",
       "    </tr>\n",
       "    <tr>\n",
       "      <th>59</th>\n",
       "      <td>2019</td>\n",
       "      <td>1.696</td>\n",
       "      <td>1.360</td>\n",
       "      <td>2.642967</td>\n",
       "    </tr>\n",
       "    <tr>\n",
       "      <th>60</th>\n",
       "      <td>2020</td>\n",
       "      <td>1.700</td>\n",
       "      <td>1.340</td>\n",
       "      <td>2.605071</td>\n",
       "    </tr>\n",
       "  </tbody>\n",
       "</table>\n",
       "<p>61 rows × 4 columns</p>\n",
       "</div>"
      ],
      "text/plain": [
       "    Year  China Fertility rate, total (births per woman)  \\\n",
       "0   1960                                           5.756   \n",
       "1   1961                                           5.905   \n",
       "2   1962                                           6.062   \n",
       "3   1963                                           6.206   \n",
       "4   1964                                           6.320   \n",
       "..   ...                                             ...   \n",
       "56  2016                                           1.675   \n",
       "57  2017                                           1.683   \n",
       "58  2018                                           1.690   \n",
       "59  2019                                           1.696   \n",
       "60  2020                                           1.700   \n",
       "\n",
       "    Japan Fertility rate, total (births per woman)  Fertility Rate  \n",
       "0                                            2.001        5.505751  \n",
       "1                                            2.050        5.489795  \n",
       "2                                            2.010        5.490831  \n",
       "3                                            2.020        5.489791  \n",
       "4                                            2.050        5.452046  \n",
       "..                                             ...             ...  \n",
       "56                                           1.440        2.747591  \n",
       "57                                           1.430        2.707341  \n",
       "58                                           1.420        2.676643  \n",
       "59                                           1.360        2.642967  \n",
       "60                                           1.340        2.605071  \n",
       "\n",
       "[61 rows x 4 columns]"
      ]
     },
     "execution_count": 3,
     "metadata": {},
     "output_type": "execute_result"
    }
   ],
   "source": [
    "Fertility_rate"
   ]
  },
  {
   "cell_type": "code",
   "execution_count": 4,
   "id": "508e258f",
   "metadata": {},
   "outputs": [],
   "source": [
    "Fertility_rate.set_index('Year', inplace = True)"
   ]
  },
  {
   "cell_type": "code",
   "execution_count": 6,
   "id": "0aa23e45",
   "metadata": {},
   "outputs": [
    {
     "data": {
      "text/plain": [
       "Text(0.5, 1.0, 'Chinese and Japanese Fertility rate')"
      ]
     },
     "execution_count": 6,
     "metadata": {},
     "output_type": "execute_result"
    },
    {
     "data": {
      "image/png": "[encoded data removed]",
      "text/plain": [
       "<Figure size 432x288 with 1 Axes>"
      ]
     },
     "metadata": {
      "needs_background": "light"
     },
     "output_type": "display_data"
    }
   ],
   "source": [
    "#Fertility rate between two countries and global average \n",
    "fig, ax = plt.subplots()\n",
    "ax.plot(Fertility_rate.index,Fertility_rate['China Fertility rate, total (births per woman)'], 'red')\n",
    "ax.annotate('One Child Policy', xy = (1979, 2.745),arrowprops=dict(facecolor='black', shrink=0.05))\n",
    "ax.plot(Fertility_rate['Japan Fertility rate, total (births per woman)'], 'blue')\n",
    "ax.plot(Fertility_rate['Fertility Rate'], 'orange')\n",
    "ax.legend(['China', 'Japan', 'Global avg'])\n",
    "ax.set_xlabel('Year')\n",
    "ax.set_ylabel('Fertility rate')\n",
    "ax.set_title('Chinese and Japanese Fertility rate')\n"
   ]
  },
  {
   "cell_type": "code",
   "execution_count": 7,
   "id": "38ea6519",
   "metadata": {},
   "outputs": [
    {
     "data": {
      "text/html": [
       "<div>\n",
       "<style scoped>\n",
       "    .dataframe tbody tr th:only-of-type {\n",
       "        vertical-align: middle;\n",
       "    }\n",
       "\n",
       "    .dataframe tbody tr th {\n",
       "        vertical-align: top;\n",
       "    }\n",
       "\n",
       "    .dataframe thead th {\n",
       "        text-align: right;\n",
       "    }\n",
       "</style>\n",
       "<table border=\"1\" class=\"dataframe\">\n",
       "  <thead>\n",
       "    <tr style=\"text-align: right;\">\n",
       "      <th></th>\n",
       "      <th>Chiense GDP per Capita</th>\n",
       "      <th>Chinese GDP per Captia Growth</th>\n",
       "    </tr>\n",
       "    <tr>\n",
       "      <th>Year</th>\n",
       "      <th></th>\n",
       "      <th></th>\n",
       "    </tr>\n",
       "  </thead>\n",
       "  <tbody>\n",
       "    <tr>\n",
       "      <th>1960</th>\n",
       "      <td>89.520542</td>\n",
       "      <td>NaN</td>\n",
       "    </tr>\n",
       "    <tr>\n",
       "      <th>1961</th>\n",
       "      <td>75.805838</td>\n",
       "      <td>-26.527644</td>\n",
       "    </tr>\n",
       "    <tr>\n",
       "      <th>1962</th>\n",
       "      <td>70.909412</td>\n",
       "      <td>-6.351505</td>\n",
       "    </tr>\n",
       "    <tr>\n",
       "      <th>1963</th>\n",
       "      <td>74.313643</td>\n",
       "      <td>7.622254</td>\n",
       "    </tr>\n",
       "    <tr>\n",
       "      <th>1964</th>\n",
       "      <td>85.498555</td>\n",
       "      <td>15.468995</td>\n",
       "    </tr>\n",
       "    <tr>\n",
       "      <th>...</th>\n",
       "      <td>...</td>\n",
       "      <td>...</td>\n",
       "    </tr>\n",
       "    <tr>\n",
       "      <th>2016</th>\n",
       "      <td>8094.363367</td>\n",
       "      <td>6.238215</td>\n",
       "    </tr>\n",
       "    <tr>\n",
       "      <th>2017</th>\n",
       "      <td>8816.986905</td>\n",
       "      <td>6.301863</td>\n",
       "    </tr>\n",
       "    <tr>\n",
       "      <th>2018</th>\n",
       "      <td>9905.342004</td>\n",
       "      <td>6.251701</td>\n",
       "    </tr>\n",
       "    <tr>\n",
       "      <th>2019</th>\n",
       "      <td>10143.838172</td>\n",
       "      <td>5.574533</td>\n",
       "    </tr>\n",
       "    <tr>\n",
       "      <th>2020</th>\n",
       "      <td>10434.775187</td>\n",
       "      <td>2.116523</td>\n",
       "    </tr>\n",
       "  </tbody>\n",
       "</table>\n",
       "<p>61 rows × 2 columns</p>\n",
       "</div>"
      ],
      "text/plain": [
       "      Chiense GDP per Capita  Chinese GDP per Captia Growth\n",
       "Year                                                       \n",
       "1960               89.520542                            NaN\n",
       "1961               75.805838                     -26.527644\n",
       "1962               70.909412                      -6.351505\n",
       "1963               74.313643                       7.622254\n",
       "1964               85.498555                      15.468995\n",
       "...                      ...                            ...\n",
       "2016             8094.363367                       6.238215\n",
       "2017             8816.986905                       6.301863\n",
       "2018             9905.342004                       6.251701\n",
       "2019            10143.838172                       5.574533\n",
       "2020            10434.775187                       2.116523\n",
       "\n",
       "[61 rows x 2 columns]"
      ]
     },
     "execution_count": 7,
     "metadata": {},
     "output_type": "execute_result"
    }
   ],
   "source": [
    "Chinese_gdp = Chinese_gdp_data.set_index('Year').iloc[:, 1:]\n",
    "Chinese_gdp.columns = [\"Chiense GDP per Capita\", 'Chinese GDP per Captia Growth']\n",
    "Chinese_gdp"
   ]
  },
  {
   "cell_type": "code",
   "execution_count": 8,
   "id": "044deaa2",
   "metadata": {},
   "outputs": [
    {
     "data": {
      "text/html": [
       "<div>\n",
       "<style scoped>\n",
       "    .dataframe tbody tr th:only-of-type {\n",
       "        vertical-align: middle;\n",
       "    }\n",
       "\n",
       "    .dataframe tbody tr th {\n",
       "        vertical-align: top;\n",
       "    }\n",
       "\n",
       "    .dataframe thead th {\n",
       "        text-align: right;\n",
       "    }\n",
       "</style>\n",
       "<table border=\"1\" class=\"dataframe\">\n",
       "  <thead>\n",
       "    <tr style=\"text-align: right;\">\n",
       "      <th></th>\n",
       "      <th>Chinese GDP per Capita</th>\n",
       "      <th>Chinese GDP per Captia Growth</th>\n",
       "    </tr>\n",
       "    <tr>\n",
       "      <th>Year</th>\n",
       "      <th></th>\n",
       "      <th></th>\n",
       "    </tr>\n",
       "  </thead>\n",
       "  <tbody>\n",
       "    <tr>\n",
       "      <th>1960</th>\n",
       "      <td>89.520542</td>\n",
       "      <td>NaN</td>\n",
       "    </tr>\n",
       "    <tr>\n",
       "      <th>1961</th>\n",
       "      <td>75.805838</td>\n",
       "      <td>-26.527644</td>\n",
       "    </tr>\n",
       "    <tr>\n",
       "      <th>1962</th>\n",
       "      <td>70.909412</td>\n",
       "      <td>-6.351505</td>\n",
       "    </tr>\n",
       "    <tr>\n",
       "      <th>1963</th>\n",
       "      <td>74.313643</td>\n",
       "      <td>7.622254</td>\n",
       "    </tr>\n",
       "    <tr>\n",
       "      <th>1964</th>\n",
       "      <td>85.498555</td>\n",
       "      <td>15.468995</td>\n",
       "    </tr>\n",
       "    <tr>\n",
       "      <th>...</th>\n",
       "      <td>...</td>\n",
       "      <td>...</td>\n",
       "    </tr>\n",
       "    <tr>\n",
       "      <th>2016</th>\n",
       "      <td>8094.363367</td>\n",
       "      <td>6.238215</td>\n",
       "    </tr>\n",
       "    <tr>\n",
       "      <th>2017</th>\n",
       "      <td>8816.986905</td>\n",
       "      <td>6.301863</td>\n",
       "    </tr>\n",
       "    <tr>\n",
       "      <th>2018</th>\n",
       "      <td>9905.342004</td>\n",
       "      <td>6.251701</td>\n",
       "    </tr>\n",
       "    <tr>\n",
       "      <th>2019</th>\n",
       "      <td>10143.838172</td>\n",
       "      <td>5.574533</td>\n",
       "    </tr>\n",
       "    <tr>\n",
       "      <th>2020</th>\n",
       "      <td>10434.775187</td>\n",
       "      <td>2.116523</td>\n",
       "    </tr>\n",
       "  </tbody>\n",
       "</table>\n",
       "<p>61 rows × 2 columns</p>\n",
       "</div>"
      ],
      "text/plain": [
       "      Chinese GDP per Capita  Chinese GDP per Captia Growth\n",
       "Year                                                       \n",
       "1960               89.520542                            NaN\n",
       "1961               75.805838                     -26.527644\n",
       "1962               70.909412                      -6.351505\n",
       "1963               74.313643                       7.622254\n",
       "1964               85.498555                      15.468995\n",
       "...                      ...                            ...\n",
       "2016             8094.363367                       6.238215\n",
       "2017             8816.986905                       6.301863\n",
       "2018             9905.342004                       6.251701\n",
       "2019            10143.838172                       5.574533\n",
       "2020            10434.775187                       2.116523\n",
       "\n",
       "[61 rows x 2 columns]"
      ]
     },
     "execution_count": 8,
     "metadata": {},
     "output_type": "execute_result"
    }
   ],
   "source": [
    "Japanese_gdp = Japanese_gdp_data.set_index('Year').iloc[:, 1:]\n",
    "Japanese_gdp.columns = [\"Japanese GDP per Capita\", 'Japanese GDP per Captia Growth']\n",
    "Japanese_gdp\n",
    "Chinese_gdp = Chinese_gdp_data.set_index('Year').iloc[:, 1:]\n",
    "Chinese_gdp.columns = [\"Chinese GDP per Capita\", 'Chinese GDP per Captia Growth']\n",
    "Chinese_gdp"
   ]
  },
  {
   "cell_type": "code",
   "execution_count": 9,
   "id": "7faa0924",
   "metadata": {},
   "outputs": [
    {
     "data": {
      "text/plain": [
       "[<matplotlib.lines.Line2D at 0x271ca8c0ac0>]"
      ]
     },
     "execution_count": 9,
     "metadata": {},
     "output_type": "execute_result"
    },
    {
     "data": {
      "image/png": "[encoded data removed]",
      "text/plain": [
       "<Figure size 432x288 with 2 Axes>"
      ]
     },
     "metadata": {
      "needs_background": "light"
     },
     "output_type": "display_data"
    }
   ],
   "source": [
    "#Japan GDP per Capita Growth and Fertility rate \n",
    "fig, ax = plt.subplots()\n",
    "ax.plot(Japanese_gdp.index, Japanese_gdp['Japanese GDP per Captia Growth'], 'red')\n",
    "ax2 = ax.twinx()\n",
    "ax2.plot( Fertility_rate.index, Fertility_rate['Japan Fertility rate, total (births per woman)'],'blue')"
   ]
  },
  {
   "cell_type": "code",
   "execution_count": 10,
   "id": "2496dc4c",
   "metadata": {},
   "outputs": [
    {
     "data": {
      "text/plain": [
       "[<matplotlib.lines.Line2D at 0x271ca9901f0>]"
      ]
     },
     "execution_count": 10,
     "metadata": {},
     "output_type": "execute_result"
    },
    {
     "data": {
      "image/png": "[encoded data removed]",
      "text/plain": [
       "<Figure size 432x288 with 2 Axes>"
      ]
     },
     "metadata": {
      "needs_background": "light"
     },
     "output_type": "display_data"
    }
   ],
   "source": [
    "#Chinese GDP per Capita Growth and Fertility rate \n",
    "fig, ax = plt.subplots()\n",
    "ax.plot(Chinese_gdp.index, Chinese_gdp['Chinese GDP per Captia Growth'], 'red')\n",
    "ax2 = ax.twinx()\n",
    "ax2.plot( Fertility_rate.index, Fertility_rate['China Fertility rate, total (births per woman)'],'blue')"
   ]
  },
  {
   "cell_type": "code",
   "execution_count": 11,
   "id": "a37c7048",
   "metadata": {},
   "outputs": [],
   "source": [
    "Age = age_dependency.iloc[:,1:].set_index('Year')"
   ]
  },
  {
   "cell_type": "code",
   "execution_count": 12,
   "id": "9fba646f",
   "metadata": {},
   "outputs": [
    {
     "data": {
      "text/plain": [
       "[<matplotlib.lines.Line2D at 0x271caa46f40>]"
      ]
     },
     "execution_count": 12,
     "metadata": {},
     "output_type": "execute_result"
    },
    {
     "data": {
      "image/png": "[encoded data removed]",
      "text/plain": [
       "<Figure size 432x288 with 2 Axes>"
      ]
     },
     "metadata": {
      "needs_background": "light"
     },
     "output_type": "display_data"
    }
   ],
   "source": [
    "##China GDP per Capita Growth and Fertility rate \n",
    "fig, ax = plt.subplots()\n",
    "ax.plot(Chinese_gdp.index, Chinese_gdp['Chinese GDP per Captia Growth'], 'red')\n",
    "ax2 = ax.twinx()\n",
    "ax2.plot(Age.index, Age['China'],'blue')"
   ]
  },
  {
   "cell_type": "code",
   "execution_count": 13,
   "id": "a30ab288",
   "metadata": {},
   "outputs": [
    {
     "data": {
      "text/plain": [
       "[<matplotlib.lines.Line2D at 0x271cab02c70>]"
      ]
     },
     "execution_count": 13,
     "metadata": {},
     "output_type": "execute_result"
    },
    {
     "data": {
      "image/png": "[encoded data removed]",
      "text/plain": [
       "<Figure size 432x288 with 2 Axes>"
      ]
     },
     "metadata": {
      "needs_background": "light"
     },
     "output_type": "display_data"
    }
   ],
   "source": [
    "#\n",
    "fig, ax = plt.subplots()\n",
    "ax.plot(Japanese_gdp.index, Japanese_gdp['Japanese GDP per Captia Growth'], 'red')\n",
    "ax2 = ax.twinx()\n",
    "ax2.plot( y.index, y['Japan'],'blue')"
   ]
  },
  {
   "cell_type": "code",
   "execution_count": 14,
   "id": "7a4f73c3",
   "metadata": {},
   "outputs": [
    {
     "data": {
      "text/html": [
       "<div>\n",
       "<style scoped>\n",
       "    .dataframe tbody tr th:only-of-type {\n",
       "        vertical-align: middle;\n",
       "    }\n",
       "\n",
       "    .dataframe tbody tr th {\n",
       "        vertical-align: top;\n",
       "    }\n",
       "\n",
       "    .dataframe thead th {\n",
       "        text-align: right;\n",
       "    }\n",
       "</style>\n",
       "<table border=\"1\" class=\"dataframe\">\n",
       "  <thead>\n",
       "    <tr style=\"text-align: right;\">\n",
       "      <th></th>\n",
       "      <th>China</th>\n",
       "      <th>Japan</th>\n",
       "      <th>D Rate</th>\n",
       "    </tr>\n",
       "    <tr>\n",
       "      <th>Year</th>\n",
       "      <th></th>\n",
       "      <th></th>\n",
       "      <th></th>\n",
       "    </tr>\n",
       "  </thead>\n",
       "  <tbody>\n",
       "    <tr>\n",
       "      <th>1960</th>\n",
       "      <td>77.024680</td>\n",
       "      <td>55.969004</td>\n",
       "      <td>78.975530</td>\n",
       "    </tr>\n",
       "    <tr>\n",
       "      <th>1961</th>\n",
       "      <td>77.260002</td>\n",
       "      <td>54.173853</td>\n",
       "      <td>79.864276</td>\n",
       "    </tr>\n",
       "    <tr>\n",
       "      <th>1962</th>\n",
       "      <td>78.433757</td>\n",
       "      <td>52.241880</td>\n",
       "      <td>80.640761</td>\n",
       "    </tr>\n",
       "    <tr>\n",
       "      <th>1963</th>\n",
       "      <td>79.877719</td>\n",
       "      <td>50.299641</td>\n",
       "      <td>81.275930</td>\n",
       "    </tr>\n",
       "    <tr>\n",
       "      <th>1964</th>\n",
       "      <td>80.673601</td>\n",
       "      <td>48.557168</td>\n",
       "      <td>81.689391</td>\n",
       "    </tr>\n",
       "    <tr>\n",
       "      <th>...</th>\n",
       "      <td>...</td>\n",
       "      <td>...</td>\n",
       "      <td>...</td>\n",
       "    </tr>\n",
       "    <tr>\n",
       "      <th>2016</th>\n",
       "      <td>38.498875</td>\n",
       "      <td>65.306132</td>\n",
       "      <td>58.931652</td>\n",
       "    </tr>\n",
       "    <tr>\n",
       "      <th>2017</th>\n",
       "      <td>39.435946</td>\n",
       "      <td>66.455463</td>\n",
       "      <td>58.907094</td>\n",
       "    </tr>\n",
       "    <tr>\n",
       "      <th>2018</th>\n",
       "      <td>40.445269</td>\n",
       "      <td>67.429080</td>\n",
       "      <td>58.895158</td>\n",
       "    </tr>\n",
       "    <tr>\n",
       "      <th>2019</th>\n",
       "      <td>41.396120</td>\n",
       "      <td>68.279571</td>\n",
       "      <td>58.875131</td>\n",
       "    </tr>\n",
       "    <tr>\n",
       "      <th>2020</th>\n",
       "      <td>42.207229</td>\n",
       "      <td>69.049789</td>\n",
       "      <td>58.835756</td>\n",
       "    </tr>\n",
       "  </tbody>\n",
       "</table>\n",
       "<p>61 rows × 3 columns</p>\n",
       "</div>"
      ],
      "text/plain": [
       "          China      Japan     D Rate\n",
       "Year                                 \n",
       "1960  77.024680  55.969004  78.975530\n",
       "1961  77.260002  54.173853  79.864276\n",
       "1962  78.433757  52.241880  80.640761\n",
       "1963  79.877719  50.299641  81.275930\n",
       "1964  80.673601  48.557168  81.689391\n",
       "...         ...        ...        ...\n",
       "2016  38.498875  65.306132  58.931652\n",
       "2017  39.435946  66.455463  58.907094\n",
       "2018  40.445269  67.429080  58.895158\n",
       "2019  41.396120  68.279571  58.875131\n",
       "2020  42.207229  69.049789  58.835756\n",
       "\n",
       "[61 rows x 3 columns]"
      ]
     },
     "execution_count": 14,
     "metadata": {},
     "output_type": "execute_result"
    }
   ],
   "source": [
    "age_dependency1 = age_dependency.set_index('Year').iloc[:,1:]\n",
    "age_dependency1"
   ]
  },
  {
   "cell_type": "code",
   "execution_count": 15,
   "id": "ab74eaf4",
   "metadata": {},
   "outputs": [
    {
     "data": {
      "text/html": [
       "<div>\n",
       "<style scoped>\n",
       "    .dataframe tbody tr th:only-of-type {\n",
       "        vertical-align: middle;\n",
       "    }\n",
       "\n",
       "    .dataframe tbody tr th {\n",
       "        vertical-align: top;\n",
       "    }\n",
       "\n",
       "    .dataframe thead th {\n",
       "        text-align: right;\n",
       "    }\n",
       "</style>\n",
       "<table border=\"1\" class=\"dataframe\">\n",
       "  <thead>\n",
       "    <tr style=\"text-align: right;\">\n",
       "      <th></th>\n",
       "      <th>China</th>\n",
       "      <th>Japan</th>\n",
       "    </tr>\n",
       "    <tr>\n",
       "      <th>Year</th>\n",
       "      <th></th>\n",
       "      <th></th>\n",
       "    </tr>\n",
       "  </thead>\n",
       "  <tbody>\n",
       "    <tr>\n",
       "      <th>1960</th>\n",
       "      <td>39.822192</td>\n",
       "      <td>30.263900</td>\n",
       "    </tr>\n",
       "    <tr>\n",
       "      <th>1961</th>\n",
       "      <td>39.874431</td>\n",
       "      <td>29.409036</td>\n",
       "    </tr>\n",
       "    <tr>\n",
       "      <th>1962</th>\n",
       "      <td>40.282471</td>\n",
       "      <td>28.478359</td>\n",
       "    </tr>\n",
       "    <tr>\n",
       "      <th>1963</th>\n",
       "      <td>40.807495</td>\n",
       "      <td>27.520804</td>\n",
       "    </tr>\n",
       "    <tr>\n",
       "      <th>1964</th>\n",
       "      <td>41.139201</td>\n",
       "      <td>26.630508</td>\n",
       "    </tr>\n",
       "    <tr>\n",
       "      <th>...</th>\n",
       "      <td>...</td>\n",
       "      <td>...</td>\n",
       "    </tr>\n",
       "    <tr>\n",
       "      <th>2016</th>\n",
       "      <td>17.994616</td>\n",
       "      <td>12.914360</td>\n",
       "    </tr>\n",
       "    <tr>\n",
       "      <th>2017</th>\n",
       "      <td>17.937361</td>\n",
       "      <td>12.814390</td>\n",
       "    </tr>\n",
       "    <tr>\n",
       "      <th>2018</th>\n",
       "      <td>17.877003</td>\n",
       "      <td>12.696849</td>\n",
       "    </tr>\n",
       "    <tr>\n",
       "      <th>2019</th>\n",
       "      <td>17.804508</td>\n",
       "      <td>12.573031</td>\n",
       "    </tr>\n",
       "    <tr>\n",
       "      <th>2020</th>\n",
       "      <td>17.711815</td>\n",
       "      <td>12.448557</td>\n",
       "    </tr>\n",
       "  </tbody>\n",
       "</table>\n",
       "<p>61 rows × 2 columns</p>\n",
       "</div>"
      ],
      "text/plain": [
       "          China      Japan\n",
       "Year                      \n",
       "1960  39.822192  30.263900\n",
       "1961  39.874431  29.409036\n",
       "1962  40.282471  28.478359\n",
       "1963  40.807495  27.520804\n",
       "1964  41.139201  26.630508\n",
       "...         ...        ...\n",
       "2016  17.994616  12.914360\n",
       "2017  17.937361  12.814390\n",
       "2018  17.877003  12.696849\n",
       "2019  17.804508  12.573031\n",
       "2020  17.711815  12.448557\n",
       "\n",
       "[61 rows x 2 columns]"
      ]
     },
     "execution_count": 15,
     "metadata": {},
     "output_type": "execute_result"
    }
   ],
   "source": [
    "Age_14under1 = Age_14under.set_index('Year')\n",
    "Age_14under1"
   ]
  },
  {
   "cell_type": "code",
   "execution_count": 16,
   "id": "408e9979",
   "metadata": {},
   "outputs": [
    {
     "data": {
      "image/png": "[encoded data removed]",
      "text/plain": [
       "<Figure size 432x288 with 1 Axes>"
      ]
     },
     "metadata": {
      "needs_background": "light"
     },
     "output_type": "display_data"
    }
   ],
   "source": [
    "fig, ax = plt.subplots()\n",
    "ax.bar(Age_14under1.index, Age_14under1['China'], label = 'China: Under 14 population')\n",
    "ax.bar(age_dependency1.index, age_dependency1['China'], bottom =Age_14under1['China'], label = 'China: Age dependency')\n",
    "ax.set_ylabel('% of total population')\n",
    "ax.legend()\n",
    "plt.show()\n"
   ]
  },
  {
   "cell_type": "code",
   "execution_count": 17,
   "id": "834249f8",
   "metadata": {
    "scrolled": true
   },
   "outputs": [
    {
     "data": {
      "image/png": "[encoded data removed]",
      "text/plain": [
       "<Figure size 432x288 with 1 Axes>"
      ]
     },
     "metadata": {
      "needs_background": "light"
     },
     "output_type": "display_data"
    }
   ],
   "source": [
    "fig, ax = plt.subplots()\n",
    "ax.bar(Age_14under1.index, Age_14under1['Japan'], label = 'Japan: Under 14 population')\n",
    "ax.bar(age_dependency1.index, age_dependency1['Japan'], bottom =Age_14under1['Japan'], label = 'Japan: Age dependency' )\n",
    "ax.set_ylabel('% of total population')\n",
    "ax.legend()\n",
    "plt.show()"
   ]
  },
  {
   "cell_type": "code",
   "execution_count": null,
   "id": "4296a4ae",
   "metadata": {},
   "outputs": [],
   "source": []
  }
 ],
 "metadata": {
  "kernelspec": {
   "display_name": "Python 3 (ipykernel)",
   "language": "python",
   "name": "python3"
  },
  "language_info": {
   "codemirror_mode": {
    "name": "ipython",
    "version": 3
   },
   "file_extension": ".py",
   "mimetype": "text/x-python",
   "name": "python",
   "nbconvert_exporter": "python",
   "pygments_lexer": "ipython3",
   "version": "3.9.7"
  }
 },
 "nbformat": 4,
 "nbformat_minor": 5
}
